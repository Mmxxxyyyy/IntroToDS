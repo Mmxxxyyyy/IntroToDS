{
 "cells": [
  {
   "cell_type": "markdown",
   "id": "0789342e-0654-4b24-8829-2e14647e0fb3",
   "metadata": {},
   "source": [
    "# Problem 1"
   ]
  },
  {
   "cell_type": "code",
   "execution_count": null,
   "id": "2bfa57a5-526d-452c-b372-970ee000dace",
   "metadata": {},
   "outputs": [],
   "source": [
    "\n",
    "# Hint the PMF of N is p_N(k) where p_N is\n",
    "from scipy.special import binom as binomial\n",
    "p = 6/10\n",
    "p_N = lambda k: binomial(10,k)*((1-p)**(10-k))*((p)**k)\n",
    "pb1_up=[]\n",
    "pb1_down=[]\n",
    "\n",
    "for i in range(11):#T\n",
    "    p_Y_lt_T=0\n",
    "    for j in range(11):#N\n",
    "        p_Z=lambda k: binomial(10-j,k)*((0.5)**(10-j))\n",
    "        p_Z_dis=[p_Z(k) for k in range(10-i+1)]\n",
    "        start_flag=i-j if i-j>=0 else 0\n",
    "        p_con=sum(p_Z_dis[start_flag:])\n",
    "        p_Y_lt_T+=p_N(j)*p_con\n",
    "\n",
    "    pb1_down.append(p_Y_lt_T)\n",
    "    \n",
    "for i in range(11):#T   \n",
    "    p_Y_lt_T=0\n",
    "    for j in range(5):#N\n",
    "        p_Z=lambda k: binomial(10-j,k)*((0.5)**(10-j))\n",
    "        p_Z_dis=[p_Z(k) for k in range(10-i+1)]\n",
    "        start_flag=i-j if i-j>=0 else 0\n",
    "        p_con=sum(p_Z_dis[start_flag:])\n",
    "        p_Y_lt_T+=p_N(j)*p_con\n",
    "\n",
    "    pb1_up.append(p_Y_lt_T)\n",
    "\n",
    "problem11_probabilities=[pb1_up[i]/pb1_down[i] for i in range(11)]\n",
    "pb2_up=[]\n",
    "for i in range(11):#T   \n",
    "    p_Y_lt_T=0\n",
    "    for j in range(5,11):#N\n",
    "        p_Z=lambda k: binomial(10-j,k)*((0.5)**(10-j))\n",
    "        p_Z_dis=[p_Z(k) for k in range(10-i+1)]\n",
    "        start_flag=i-j if i-j>=0 else 0\n",
    "        p_con=sum(p_Z_dis[start_flag:])\n",
    "        p_Y_lt_T+=p_N(j)*p_con\n",
    "\n",
    "    pb2_up.append(p_Y_lt_T)\n",
    "\n",
    "\n",
    "pb2_down = pb1_down.copy()  # 使用已计算的 pb1_down\n",
    "\n",
    "\n",
    "pb2 = [pb2_up[i] / pb2_down[i] for i in range(11)]\n"
   ]
  },
  {
   "cell_type": "code",
   "execution_count": null,
   "id": "abf207cf-5ab9-44d0-a91b-ddf443a198c9",
   "metadata": {},
   "outputs": [],
   "source": [
    "T = list(range(11))\n",
    "# Hint the PMF of N is p_N(k) where p_N is\n",
    "from scipy.special import binom as binomial\n",
    "p = 6/10\n",
    "p_N = lambda k: binomial(10,k)*((1-p)**(10-k))*((p)**k)\n",
    "\n",
    "# Probability of passing for a student\n",
    "\n",
    "lp_passed = []# set of probabilities of passing\n",
    "lp_passed_Nless = []# set of probabilities of passing with N < 5\n",
    "for t in T:\n",
    "    p_passed = 0\n",
    "    p_passed_Nless = 0\n",
    "    for y in range(t,11):# pass at threshold t, y>=t\n",
    "        for N in range(y+1):\n",
    "            # probability of knowing N answers and answering Y answers correctly\n",
    "            p_N_correct = p_N(N)*(binomial(10-N,(y-N))*(1/2)**(10-N))\n",
    "            \n",
    "            # probability of passing with N < 5\n",
    "            if N<5: p_passed_Nless = p_passed_Nless + p_N_correct\n",
    "                \n",
    "            # probability of passing\n",
    "            p_passed = p_passed + p_N_correct\n",
    "    lp_passed.append(p_passed)\n",
    "    lp_passed_Nless.append(p_passed_Nless)\n",
    "    \n",
    "# Probability that the student knows less than  correct answers given that the student passed\n",
    "p_con = [i / j for i, j in zip(lp_passed_Nless, lp_passed)]"
   ]
  },
  {
   "cell_type": "code",
   "execution_count": null,
   "id": "3a3d108b-eb91-442a-ad5b-8a496829f768",
   "metadata": {},
   "outputs": [],
   "source": [
    "problem12_T = 8"
   ]
  },
  {
   "cell_type": "markdown",
   "id": "668dbc75-86aa-421f-9ef0-8d498d3856bf",
   "metadata": {},
   "source": [
    "# Problem 2"
   ]
  },
  {
   "cell_type": "code",
   "execution_count": null,
   "id": "cfed9b51-c5ed-401a-8ca3-7e4f5eccec8b",
   "metadata": {},
   "outputs": [],
   "source": [
    "import math\n",
    "from sympy import primefactors\n",
    "def problem4_LCG(size=None, seed = 0):\n",
    "    \"\"\"\n",
    "    A linear congruential generator that generates pseudo random numbers according to size.\n",
    "    \n",
    "    Parameters\n",
    "    -------------\n",
    "    size : an integer denoting how many samples should be produced\n",
    "    seed : the starting point of the LCG, i.e. u0 in the notes.\n",
    "    \n",
    "    Returns\n",
    "    -------------\n",
    "    out : a list of the pseudo random numbers\n",
    "    \"\"\"\n",
    "    M = 2**31 - 1  \n",
    "    a = 48271     \n",
    "    b = 0          \n",
    "    \n",
    "    numbers = []\n",
    "    current = seed\n",
    "    \n",
    "    for _ in range(size):\n",
    "        current = (a * current + b) % M\n",
    "        numbers.append(current)\n",
    "    \n",
    "    return numbers"
   ]
  },
  {
   "cell_type": "code",
   "execution_count": null,
   "id": "fb42f36c-d624-4ae5-9bb6-c4784c2244ac",
   "metadata": {},
   "outputs": [],
   "source": [
    "def problem4_uniform(generator=None, period = 1, size=None, seed=0):\n",
    "    \"\"\"\n",
    "    Takes a generator and produces samples from the uniform [0,1] distribution according\n",
    "    to size.\n",
    "    \n",
    "    Parameters\n",
    "    -------------\n",
    "    generator : a function of type generator(size,seed) and produces the same result as problem1_LCG, i.e. pseudo random numbers in the range {0,1,...,period-1}\n",
    "    period : the period of the generator\n",
    "    seed : the seed to be used in the generator provided\n",
    "    size : an integer denoting how many samples should be produced\n",
    "    \n",
    "    Returns\n",
    "    --------------\n",
    "    out : a list of the uniform pseudo random numbers\n",
    "    \"\"\"\n",
    "    \n",
    "    raw_numbers = generator(size, seed)\n",
    "    \n",
    "   \n",
    "    uniform_numbers = [x / period for x in raw_numbers]\n",
    "    \n",
    "    return uniform_numbers"
   ]
  },
  {
   "cell_type": "code",
   "execution_count": null,
   "id": "1bb3a732-bbd4-4424-a076-4e8977633bc9",
   "metadata": {},
   "outputs": [],
   "source": [
    "\n",
    "def problem4_accept_reject(uniformGenerator=None, n_iterations=None, seed=0):\n",
    "    \"\"\"\n",
    "    Takes a generator that produces uniform pseudo random [0,1] numbers \n",
    "    and produces samples from (pi/2)*abs(sin(x*2*pi)) using an Accept-Reject\n",
    "    sampler with the uniform distribution as the proposal distribution.\n",
    "    Runs n_iterations\n",
    "    \n",
    "    Parameters\n",
    "    -------------\n",
    "    generator : a function of the type generator(size,seed) that produces uniform pseudo random\n",
    "    numbers from [0,1]\n",
    "    seed : the seed to be used in the generator provided\n",
    "    n_iterations : an integer denoting how many attempts should be made in the accept-reject sampler\n",
    "    \n",
    "    Returns\n",
    "    --------------\n",
    "    out : a list of the pseudo random numbers with the specified distribution\n",
    "    \"\"\"\n",
    "    \n",
    "    \n",
    "    \n",
    "    accepted_samples = []\n",
    "    M = math.pi/2  \n",
    "    \n",
    "    \n",
    "    uniform_samples = uniformGenerator(2 * n_iterations, seed)\n",
    "    \n",
    "    i = 0\n",
    "    while i < len(uniform_samples) - 1 and len(accepted_samples) < n_iterations:\n",
    "        x = uniform_samples[i]        \n",
    "        u = uniform_samples[i + 1]    \n",
    "        \n",
    "        # 计算接受概率\n",
    "        target_density = (math.pi/2) * abs(math.sin(2 * math.pi * x))\n",
    "        proposal_density = 1  \n",
    "        \n",
    "        # 接受-拒绝步骤\n",
    "        if u * M * proposal_density <= target_density:\n",
    "            accepted_samples.append(x)\n",
    "            \n",
    "        i += 2\n",
    "    \n",
    "    return accepted_samples"
   ]
  },
  {
   "cell_type": "code",
   "execution_count": null,
   "id": "28419cd9-f11d-4431-9c26-18ac92c59ab1",
   "metadata": {},
   "outputs": [],
   "source": [
    "\n",
    "# If you managed to solve all three parts you can test the following code to see if it runs\n",
    "# you have to change the period to match your LCG though, this is marked as XXX.\n",
    "# It is a very good idea to check these things using the histogram function in sagemath\n",
    "# try with a larger number of samples, up to 10000 should run\n",
    "\n",
    "print(\"LCG output: %s\" % problem4_LCG(size=10, seed = 1))\n",
    "\n",
    "period = 2**31 - 1\n",
    "\n",
    "print(\"Uniform sampler %s\" % problem4_uniform(generator=problem4_LCG, period = period, size=10, seed=1))\n",
    "\n",
    "uniform_sampler = lambda size,seed: problem4_uniform(generator=problem4_LCG, period = period, size=size, seed=seed)\n",
    "\n",
    "print(\"Accept-Reject sampler %s\" % problem4_accept_reject(uniformGenerator = uniform_sampler,n_iterations=20,seed=1))"
   ]
  },
  {
   "cell_type": "markdown",
   "id": "c899823a-bfd7-4704-9a3b-028d1424f055",
   "metadata": {},
   "source": [
    "# Problem 3"
   ]
  },
  {
   "cell_type": "markdown",
   "id": "1a2fc3be-8a30-4f80-85f8-889daf4d593f",
   "metadata": {},
   "source": [
    "## Theoretical base\n",
    "### Corollary 3.7\n",
    "Let $(\\Omega, \\mathcal{F}, P)$ be a probability triple and let $X_1, \\dots, X_n \\overset{\\text{IID}}{\\sim} F$ be $R$-valued random variables such that $P(X_i \\in [a, b]) = 1$. Then, for any $\\epsilon > 0$, we have:\n",
    "\n",
    "$P(X_n - \\mathbb{E}[X_n] \\leq -\\epsilon) \\leq e^{-\\frac{2n\\epsilon^2}{(b-a)^2}}$\n",
    "\n",
    "Furthermore:\n",
    "\n",
    "$P(X_n - \\mathbb{E}[X_n] \\geq \\epsilon) \\leq 2e^{-\\frac{2n\\epsilon^2}{(b-a)^2}}$\n",
    "\n",
    "where:\n",
    "\n",
    "$X_n = \\frac{1}{n} \\sum_{i=1}^n X_i$\n",
    "\n",
    "---\n",
    "\n",
    "### Theorem 3.14\n",
    "Let $(\\Omega, \\mathcal{F}, P)$ be a probability triple and let $X_1, \\dots, X_n \\overset{\\text{IID}}{\\sim} F$ be $R$-valued sub-exponential random variables with parameter $\\lambda$. Then, for any $\\epsilon > 0$, we have:\n",
    "\n",
    "$P(X_n - \\mathbb{E}[X_n] \\geq \\epsilon) \\leq e^{-\\frac{\\epsilon^2 n}{2\\lambda^2}} \\lor e^{-\\frac{\\epsilon n}{2\\lambda}}$\n",
    "\n",
    "where:\n",
    "\n",
    "$X_n = \\frac{1}{n} \\sum_{i=1}^n X_i$\n",
    "\n",
    "### Distribution Properties Table\n",
    "\n",
    "| Distribution       | Sub-Exponential | Sub-Gaussian |\n",
    "|--------------------|-----------------|--------------|\n",
    "| Gaussian           | Yes             | Yes          |\n",
    "| Bernoulli          | Yes             | Yes          |\n",
    "| Uniform            | Yes             | Yes          |\n",
    "| Bounded            | Yes             | Yes          |\n",
    "| Exponential        | Yes             | No           |\n",
    "| $\\chi^2$           | Yes             | No           |\n",
    "| Weibull ($k \\geq 1$) | Yes           | No           |\n",
    "| Laplace            | Yes             | No           |\n",
    "| Pareto             | No              | No           |\n",
    "| Lognormal          | No              | No           |\n",
    "\n",
    "\n",
    "### Lemma 3.15\n",
    "The following properties hold:\n",
    "\n",
    "1. Let $X$ be a sub-Gaussian random variable (RV) with parameter $\\lambda$, then $\\alpha X$ is sub-Gaussian with parameter $|\\alpha|\\lambda$.\n",
    "\n",
    "2. Let $X$ be a sub-exponential random variable (RV) with parameter $\\lambda$, then $\\alpha X$ is sub-exponential with parameter $|\\alpha|\\lambda$.\n",
    "\n",
    "3. A sub-Gaussian RV $X$ with parameter $\\lambda$ is sub-exponential with parameter $\\lambda$.\n",
    "\n",
    "4. A bounded RV $X$, i.e., $P(X \\in [a, b]) = 1$, is sub-Gaussian with parameter $\\frac{b-a}{2}$. Specifically, a Bernoulli RV is sub-Gaussian with parameter $\\frac{1}{2}$.\n",
    "\n",
    "5. If $X$ is sub-Gaussian with parameter $\\lambda$, then $Z = X^2$ is sub-exponential with parameter $8\\lambda^2$.\n",
    "\n",
    "6. If $X, Y$ are independent and sub-Gaussian with parameters $\\sigma_1, \\sigma_2$, then $X + Y$ is sub-Gaussian with parameter $\\sqrt{\\sigma_1^2 + \\sigma_2^2}$.\n",
    "\n",
    "\n"
   ]
  },
  {
   "cell_type": "code",
   "execution_count": null,
   "id": "45ca2194-4ecf-457b-a4fa-b5689a658a1a",
   "metadata": {},
   "outputs": [],
   "source": [
    "problem3_answer_1 = [2,4,5,9,10]\n",
    "problem3_answer_2 = [2,3,4,5,6,7,8,9,10]"
   ]
  },
  {
   "cell_type": "markdown",
   "id": "a875cc68-eec1-4c54-8e0e-ff734c34d87e",
   "metadata": {},
   "source": [
    "# Problem 4\n"
   ]
  },
  {
   "cell_type": "code",
   "execution_count": null,
   "id": "678b23bf-1421-4348-8122-5dc933018e20",
   "metadata": {},
   "outputs": [],
   "source": [
    "# Run this cell to get the SMS text data\n",
    "from exam_extras import load_sms\n",
    "spam_no_spam = load_sms()\n",
    "#('text',1)"
   ]
  },
  {
   "cell_type": "code",
   "execution_count": null,
   "id": "38a22cad-ab46-4207-acd5-dcd3eb912ecc",
   "metadata": {},
   "outputs": [],
   "source": [
    "# fill in the estimate for part 1 here (should be a number between 0 and 1)\n",
    "spam_no_spam = [(i[0].lower(), i[1]) for i in spam_no_spam]\n",
    "\n",
    "problem4_hatP = sum(\n",
    "    1 for i in spam_no_spam if (('free' in i[0]) or ('prize' in i[0])) and (i[1] == 1)\n",
    ") / sum(\n",
    "    1 for i in spam_no_spam if ('free' in i[0]) or ('prize' in i[0])\n",
    ")"
   ]
  },
  {
   "cell_type": "code",
   "execution_count": null,
   "id": "cc395955-5824-4447-9932-d98656c57c30",
   "metadata": {},
   "outputs": [],
   "source": [
    "# fill in the calculated l from part 2 here\n",
    "alpha=0.1\n",
    "n=len(spam_no_spam)\n",
    "epsilon=np.sqrt(-1/(2*n)*np.log((alpha)/2))\n",
    "problem4_l = (problem4_hatP-epsilon,problem4_hatP+epsilon)"
   ]
  },
  {
   "cell_type": "markdown",
   "id": "bf7ab30a-e21f-490e-9877-2e0d9bb107dd",
   "metadata": {},
   "source": [
    "就不做重复性工作了嘻嘻"
   ]
  },
  {
   "cell_type": "code",
   "execution_count": null,
   "id": "74effb1f-196d-4d97-b47f-e37487466cbb",
   "metadata": {},
   "outputs": [],
   "source": [
    "# fill in the estimate for hatP for the double free question in part 3 here (should be a number between 0 and 1)\n",
    "problem4_hatP2 = XXX"
   ]
  },
  {
   "cell_type": "code",
   "execution_count": null,
   "id": "6e5b9aaa-439a-4757-8412-531492bfd8da",
   "metadata": {},
   "outputs": [],
   "source": [
    "# fill in the estimate for l for the double free question in part 3 here\n",
    "problem4_l2 = XXX"
   ]
  },
  {
   "cell_type": "markdown",
   "id": "516cd0b4-1ba0-481b-abef-514328762cae",
   "metadata": {},
   "source": [
    "# Problem 5"
   ]
  },
  {
   "attachments": {},
   "cell_type": "markdown",
   "id": "7c872e66-b7da-4d63-8731-6c4ddb7de46a",
   "metadata": {},
   "source": [
    "数据示例\n",
    "travelCode\tuserCode\tfrom\tto\tflightType\tprice\ttime\tdistance\tagency\tdate"
   ]
  },
  {
   "cell_type": "code",
   "execution_count": null,
   "id": "620e116a-cb22-4be1-bce0-a562d1ac95bc",
   "metadata": {},
   "outputs": [],
   "source": [
    "flight_df=pd.read_csv('data/flights.csv')\n",
    "number_of_cities = len(set(flight_df['from']).union(set(flight_df['to'])))\n",
    "number_of_userCodes = flight_df['userCode'].nunique()\n",
    "number_of_observations = len(flight_df)\n"
   ]
  },
  {
   "cell_type": "code",
   "execution_count": null,
   "id": "03b0d96a-dcc8-4bc0-ab72-9934fb963f08",
   "metadata": {},
   "outputs": [],
   "source": [
    "# This is a very useful function that you can use for part 2. You have seen this before when parsing the\n",
    "# pride and prejudice book.\n",
    "def makeFreqDict(myDataList):\n",
    "    '''Make a frequency mapping out of a list of data.\n",
    "    Param myDataList, a list of data.\n",
    "    Return a dictionary mapping each unique data value to its frequency count.\n",
    "    '''\n",
    "    freqDict = {} # start with an empty dictionary\n",
    "    for res in myDataList:\n",
    "        if res in freqDict: # the data value already exists as a key\n",
    "            freqDict[res] = freqDict[res] + 1 # add 1 to the count using sage integers\n",
    "        else: # the data value does not exist as a key value\n",
    "            freqDict[res] = 1 # add a new key-value pair for this new data value, frequency 1\n",
    "    return freqDict # return the dictionary created"
   ]
  },
  {
   "cell_type": "code",
   "execution_count": null,
   "id": "6c54b973-d6f9-4a7b-963c-a7367fbc3f1d",
   "metadata": {},
   "outputs": [],
   "source": [
    "cities = list(flight_df['from']) + list(flight_df['to'])\n",
    "unique_cities = sorted(set(cities))\n",
    "n_cities = len(unique_cities)\n",
    "\n",
    "# 统计不同的转换\n",
    "transitions = list(zip(flight_df['from'], flight_df['to']))\n",
    "transition_counts = makeFreqDict(transitions)\n",
    "\n",
    "# 建立索引映射\n",
    "indexToCity = {i: city for i, city in enumerate(unique_cities)}\n",
    "cityToIndex = {city: i for i, city in enumerate(unique_cities)}\n",
    "\n",
    "# 初始化转移矩阵\n",
    "transition_matrix = np.zeros((n_cities, n_cities))\n",
    "\n",
    "# 填充转移矩阵\n",
    "for i in range(n_cities):\n",
    "    for j in range(n_cities):\n",
    "        if (indexToCity[i], indexToCity[j]) in transition_counts:\n",
    "            transition_matrix[i, j] = transition_counts[(indexToCity[i], indexToCity[j])] / sum(transition_counts.values())\n",
    "        else:\n",
    "            transition_matrix[i, j] = 0\n",
    "\n"
   ]
  },
  {
   "cell_type": "code",
   "execution_count": null,
   "id": "d96e0e0e-037d-4210-8117-91ca43bf9258",
   "metadata": {},
   "outputs": [],
   "source": [
    "# Part 4: 计算稳态分布\n",
    "w, v = np.linalg.eig(transition_matrix.T)\n",
    "stationary_distribution_problem5 = np.real(v[:, np.isclose(w, 1)])\n",
    "stationary_distribution_problem5 = stationary_distribution_problem5 / stationary_distribution_problem5.sum()\n"
   ]
  },
  {
   "cell_type": "code",
   "execution_count": null,
   "id": "981e65a0-21dd-432e-b911-c47d60e0fb36",
   "metadata": {},
   "outputs": [],
   "source": [
    "# Compute the return probability for part 3 of problem 5\n",
    "start_city = 'Aracaju (SE)'\n",
    "steps = 3\n",
    "\n",
    "# 获取起始城市在转移矩阵中的索引\n",
    "start_index = cityToIndex[start_city]\n",
    "\n",
    "# 计算从起始城市出发经过 steps 步回到起始城市的概率\n",
    "problem = np.linalg.matrix_power(transition_matrix, steps)[start_index, start_index]\n"
   ]
  },
  {
   "cell_type": "code",
   "execution_count": null,
   "id": "1c6a73ce-6b6b-4a45-aaaa-392d49f4838a",
   "metadata": {},
   "outputs": [],
   "source": [
    "# Once you have created all your functions, you can make a small test here to see\n",
    "# what would be generated from your model.\n",
    "import numpy as np\n",
    "start = np.zeros(shape=(n_cities,1))\n",
    "start[cityToIndex['Aracaju (SE)'],0] = 1\n",
    "current_pos = start\n",
    "for i in range(10):\n",
    "    random_word_index = np.random.choice(range(n_cities),p=current_pos.reshape(-1))\n",
    "    current_pos = np.zeros_like(start)\n",
    "    current_pos[random_word_index] = 1\n",
    "    print(indexToCity[random_word_index],end='->')\n",
    "    current_pos = (current_pos.T@transition_matrix).T"
   ]
  },
  {
   "cell_type": "markdown",
   "id": "b63f995f-259e-41fe-95f3-db757b2e8685",
   "metadata": {},
   "source": [
    "# Problem 6"
   ]
  },
  {
   "cell_type": "code",
   "execution_count": null,
   "id": "a37c50ef-1e8a-4118-96b7-4f2acaf83182",
   "metadata": {},
   "outputs": [],
   "source": [
    "# The code below will load data, split the data into train and test and run a \"black box\" algorithm on it\n",
    "# the result of the \"black box\" is stored in predictions_problem6, the true values will be stored in\n",
    "# Y_test_problem6\n",
    "import exam_extras\n",
    "from exam_extras import load_sms_problem6\n",
    "X_problem6, Y_problem6 = load_sms_problem6()\n",
    "X_train_problem6,X_test_problem6,Y_train_problem6,Y_test_problem6 = exam_extras.train_test_split(X_problem6,Y_problem6)\n",
    "predictions_problem6 = exam_extras.knn_predictions(X_train_problem6,Y_train_problem6,X_test_problem6,k=4)"
   ]
  },
  {
   "cell_type": "code",
   "execution_count": null,
   "id": "894da9f3-0567-4074-b5b4-563daa0e91e6",
   "metadata": {},
   "outputs": [],
   "source": [
    "# Compute the precision of predictions_problem6 with respect to Y_test_problem6\n",
    "from sklearn.metrics import precision_score\n",
    "\n",
    "problem6_precision = precision_score(Y_test_problem6, predictions_problem6, pos_label=1)\n"
   ]
  },
  {
   "cell_type": "code",
   "execution_count": null,
   "id": "03bf5bb7-5213-4069-bc05-839a7a6aaab1",
   "metadata": {},
   "outputs": [],
   "source": [
    "# Compute the interval length l of precision of predictions_problem6 with respect to Y_test_problem6, with the same definition of l as in problem 4\n",
    "\n",
    "#同问题4，省略"
   ]
  },
  {
   "cell_type": "code",
   "execution_count": null,
   "id": "68716ae0-ac93-406f-a1bb-8fd381b5650b",
   "metadata": {},
   "outputs": [],
   "source": [
    "# Repeat the same procedure but for recall\n",
    "from sklearn.metrics import recall_score\n",
    "\n",
    "problem6_recall = recall_score(Y_test_problem6, predictions_problem6, pos_label=1)\n"
   ]
  },
  {
   "cell_type": "code",
   "execution_count": null,
   "id": "cb8be3cd-8611-44f2-a883-329ad9e5cb02",
   "metadata": {},
   "outputs": [],
   "source": []
  },
  {
   "cell_type": "code",
   "execution_count": null,
   "id": "9615fb7e-4706-4b3c-8782-b639581a88dd",
   "metadata": {},
   "outputs": [],
   "source": [
    "# Repeat the same procedure but for accuracy or 0-1 loss\n",
    "from sklearn.metrics import accuracy_score\n",
    "\n",
    "problem6_accuracy = accuracy_score(Y_test_problem6, predictions_problem6)\n"
   ]
  },
  {
   "cell_type": "markdown",
   "id": "d21b8bb7-8000-4c1c-8c8a-07dfb9e11e84",
   "metadata": {},
   "source": [
    "VC-theory 参考notebook-regression最后一节"
   ]
  },
  {
   "cell_type": "code",
   "execution_count": null,
   "id": "d920e923-5806-4638-bef2-036c354d7c5f",
   "metadata": {},
   "outputs": [],
   "source": [
    "import math\n",
    "\n",
    "# Given parameters\n",
    "n = len(Y_test_problem6)  # Number of samples in test set\n",
    "m = 3  # VC dimension\n",
    "\n",
    "# Confidence level (1 - 0.95 = 0.05 for 95% confidence)\n",
    "delta = 0.05\n",
    "\n",
    "# Compute VC dimension interval parameter l\n",
    "problem6_VC_l = math.sqrt((8 / n) * math.log(2 * m / delta))\n",
    "\n",
    "# Compare with accuracy interval from the test set\n",
    "problem6_VC_smaller = (problem6_VC_l < problem6_accuracy_l)\n"
   ]
  }
 ],
 "metadata": {
  "kernelspec": {
   "display_name": "Python 3 (ipykernel)",
   "language": "python",
   "name": "python3"
  },
  "language_info": {
   "codemirror_mode": {
    "name": "ipython",
    "version": 3
   },
   "file_extension": ".py",
   "mimetype": "text/x-python",
   "name": "python",
   "nbconvert_exporter": "python",
   "pygments_lexer": "ipython3",
   "version": "3.12.5"
  }
 },
 "nbformat": 4,
 "nbformat_minor": 5
}
