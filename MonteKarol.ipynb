{
 "cells": [
  {
   "cell_type": "code",
   "execution_count": null,
   "id": "817c76f9",
   "metadata": {},
   "outputs": [],
   "source": []
  },
  {
   "cell_type": "code",
   "execution_count": null,
   "id": "4820d98e",
   "metadata": {},
   "outputs": [],
   "source": []
  },
  {
   "cell_type": "markdown",
   "id": "9c2b23a7",
   "metadata": {},
   "source": [
    "# 2024-1\n",
    "## Problem1\n",
    "1. 使用拒绝采样生成来自特定分布 f(x) 的样本。"
   ]
  },
  {
   "cell_type": "code",
   "execution_count": 5,
   "id": "e567a148",
   "metadata": {},
   "outputs": [],
   "source": [
    "import numpy as np\n",
    "from Utils import timeout"
   ]
  },
  {
   "cell_type": "code",
   "execution_count": 17,
   "id": "56a728bb",
   "metadata": {},
   "outputs": [],
   "source": [
    "# Part 1\n",
    "@timeout(seconds=10)\n",
    "def problem1_inversion(n_samples=1):\n",
    "# Distribution from part 1\n",
    "# write the code in this function to produce samples from the distribution in the assignment\n",
    "# Make sure you choose a good sampling distribution to avoid unnecessary rejections\n",
    "# Return a numpy array of length n_samples\n",
    "    \"\"\"\n",
    "    使用拒绝采样法从给定分布生成样本。生成的样本服从目标分布 p(x)\n",
    "    \n",
    "    ！！！！这里有坑，题中给的是CDF，你需要求导然后得到PDF，根据pdf生成数据\n",
    "    \n",
    "    \n",
    "    \"\"\"\n",
    "    \n",
    "    def target_pdf(x):\n",
    "        if x <= 0:\n",
    "            return 0\n",
    "        elif x >= 1:\n",
    "            1\n",
    "        else:\n",
    "            return 2*x*np.exp(x*x)/(np.e-1)\n",
    "        # 返回 p(x)  # 给定的概率密度函数\n",
    "\n",
    "    def proposal_pdf(x):\n",
    "        \"\"\"\n",
    "        提议分布 q(x)：均匀分布。\n",
    "        我们通常在给定区间上使用均匀分布，\n",
    "        或者选择某种 Beta 分布使得更容易被接受\n",
    "        （实际上，我们选择具有厚尾的分布）\n",
    "        \"\"\"\n",
    "        return 1  # 在 x 范围内的均匀分布\n",
    "\n",
    "    # 拒绝采样的参数\n",
    "    #M = max(target_pdf / proposal_pdf)\n",
    "    M = 2*np.e/(np.e-1)  # 缩放常数，基于最大比值 p(x) / q(x) 选择，M 越接近该比值，接受的概率越大\n",
    "    samples = []\n",
    "    count = 0  # 统计总迭代次数，用于效率检查\n",
    "\n",
    "    while len(samples) < n_samples:\n",
    "        x = np.random.uniform(0, 1)  # 从均匀分布中采样\n",
    "        u = np.random.uniform(0, M * proposal_pdf(x))  # 用于接受的均匀随机数\n",
    "\n",
    "        if u <= target_pdf(x):  # 是否接受样本\n",
    "            samples.append(x)\n",
    "        count += 1\n",
    "\n",
    "    return np.array(samples)"
   ]
  },
  {
   "cell_type": "markdown",
   "id": "c3440383",
   "metadata": {},
   "source": [
    "2. 生成100000个样本"
   ]
  },
  {
   "cell_type": "code",
   "execution_count": 18,
   "id": "3cf54733",
   "metadata": {},
   "outputs": [],
   "source": [
    "problem1_samples = problem1_inversion(n_samples=100000)"
   ]
  },
  {
   "cell_type": "markdown",
   "id": "42e7109e",
   "metadata": {},
   "source": [
    "3. 用10w个样本去接近一个积分\n",
    "\n",
    "### **蒙特卡罗积分公式**\n",
    "\n",
    "蒙特卡罗积分是利用随机样本近似计算积分的一种方法。其公式如下：\n",
    "\n",
    "#### **1. 一般形式**\n",
    "\n",
    "设目标是计算积分：\n",
    "$\n",
    "I = \\int_a^b f(x) \\, dx\n",
    "$\n",
    "\n",
    "如果我们能够从分布 \\(q(x)\\) 中生成样本，则可以用以下公式近似：\n",
    "$\n",
    "I \\approx \\frac{1}{n} \\sum_{i=1}^n f(x_i) \\cdot \\frac{p(x)}{q(x)},\n",
    "$\n",
    "其中：\n",
    "- $x_i$ 是从提议分布 $q(x)$ 中生成的样本；\n",
    "- $p(x)$ 是目标分布的密度函数；\n",
    "- $f(x)$ 是被积函数；\n",
    "- $q(x)$ 是提议分布的密度函数。\n",
    "\n",
    "---\n",
    "\n",
    "#### **2. 在均匀分布上的特例**\n",
    "\n",
    "如果提议分布是均匀分布 $q(x) = 1 / (b - a)$，公式简化为：\n",
    "$\n",
    "I \\approx (b - a) \\cdot \\frac{1}{n} \\sum_{i=1}^n f(x_i),\n",
    "$\n",
    "其中 $x_i \\sim \\text{Uniform}(a, b)$。\n",
    "\n",
    "---\n",
    "\n",
    "#### **3. 样本来源于目标分布的特例**\n",
    "\n",
    "如果样本直接来自目标分布 $p(x)$，则可以简化为直接计算样本均值：\n",
    "$\n",
    "I \\approx \\frac{1}{n} \\sum_{i=1}^n f(x_i),\n",
    "$\n",
    "其中 $x_i \\sim p(x)$。"
   ]
  },
  {
   "cell_type": "code",
   "execution_count": 19,
   "id": "35f422bb",
   "metadata": {},
   "outputs": [
    {
     "data": {
      "text/plain": [
       "0.6527874591025596"
      ]
     },
     "execution_count": 19,
     "metadata": {},
     "output_type": "execute_result"
    }
   ],
   "source": [
    "#采用方法1\n",
    "problem1_integral = sum([np.sin(x) for x in problem1_samples])/len(problem1_samples)\n",
    "problem1_integral"
   ]
  },
  {
   "cell_type": "markdown",
   "id": "18c0746d",
   "metadata": {},
   "source": [
    "4. 用Hoeffdings inequality生成上述积分的95%置信区间"
   ]
  },
  {
   "cell_type": "code",
   "execution_count": null,
   "id": "d3da8620",
   "metadata": {},
   "outputs": [],
   "source": []
  }
 ],
 "metadata": {
  "kernelspec": {
   "display_name": "Python 3 (ipykernel)",
   "language": "python",
   "name": "python3"
  },
  "language_info": {
   "codemirror_mode": {
    "name": "ipython",
    "version": 3
   },
   "file_extension": ".py",
   "mimetype": "text/x-python",
   "name": "python",
   "nbconvert_exporter": "python",
   "pygments_lexer": "ipython3",
   "version": "3.8.7rc1"
  }
 },
 "nbformat": 4,
 "nbformat_minor": 5
}
