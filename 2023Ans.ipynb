{
 "cells": [
  {
   "cell_type": "markdown",
   "id": "571e8d71-d903-441d-b438-4ae37a8a94d5",
   "metadata": {},
   "source": [
    "## Problem 1"
   ]
  },
  {
   "cell_type": "code",
   "execution_count": 2,
   "id": "23c80ea8-6b7c-47f0-afe9-b9a6a1ca5481",
   "metadata": {},
   "outputs": [],
   "source": [
    "import numpy as np\n",
    "import networkx as nx\n",
    "from functools import reduce\n",
    "from math import gcd"
   ]
  },
  {
   "cell_type": "code",
   "execution_count": 3,
   "id": "d41ea1a8-8a1d-407a-83b4-7329d534a31c",
   "metadata": {},
   "outputs": [],
   "source": [
    "P=np.array([\n",
    "    [0.3, 0.4, 0.3],\n",
    "    [0.2, 0.5, 0.3 ],\n",
    "    [0.4, 0.3, 0.3 ]\n",
    "])"
   ]
  },
  {
   "cell_type": "code",
   "execution_count": null,
   "id": "ded66370-2b64-4aca-887d-7f0ad83bfb44",
   "metadata": {},
   "outputs": [],
   "source": [
    "# Part 1\n",
    "\n",
    "# Fill in the answer to part 1 below as a decimal number\n",
    "problem1_p1 = 0.28"
   ]
  },
  {
   "cell_type": "code",
   "execution_count": null,
   "id": "8ab99a12-4807-48ca-a6e4-a78ae9178a2f",
   "metadata": {},
   "outputs": [],
   "source": [
    "# Part 2\n",
    "\n",
    "# Fill in the answer to part 2 below as a decimal number\n",
    "problem1_p2 = 0.22"
   ]
  },
  {
   "cell_type": "code",
   "execution_count": null,
   "id": "03217a34-d68d-4681-8155-79c192095af5",
   "metadata": {},
   "outputs": [],
   "source": [
    "# Part 3\n",
    "\n",
    "# Fill in the answer to part 3 below as a boolean\n",
    "problem1_irreducible = True"
   ]
  },
  {
   "cell_type": "code",
   "execution_count": 8,
   "id": "8311e09a-b244-4cef-85fe-cc53309e34f7",
   "metadata": {},
   "outputs": [
    {
     "name": "stdout",
     "output_type": "stream",
     "text": [
      "Stationary distribution: [0.28888889 0.41111111 0.3       ]\n"
     ]
    }
   ],
   "source": [
    "# 4. 平稳分布 (stationary distribution)\n",
    "from scipy.linalg import eig\n",
    "w, v = eig(P, left=True, right=False)\n",
    "stationary = np.real(v[:, np.isclose(w, 1)])\n",
    "stationary = stationary / stationary.sum()\n",
    "print(\"Stationary distribution:\", stationary.ravel())"
   ]
  },
  {
   "cell_type": "code",
   "execution_count": 5,
   "id": "c34f4155-59a7-47ad-8f37-335f6cefed43",
   "metadata": {},
   "outputs": [],
   "source": [
    "import numpy as np\n",
    "\n",
    "def probability_at_time(P, initial_state, target_state, steps):\n",
    "    \"\"\"\n",
    "    计算从初始状态 `initial_state` 出发，在经过 `steps` 次转移后，\n",
    "    到达目标状态 `target_state` 的概率。\n",
    "    state都是从0开始的索引\n",
    "    \n",
    "    参数:\n",
    "    - P (ndarray): 马尔可夫链的转移矩阵。\n",
    "    - initial_state (int): 初始状态的索引（从0开始）。\n",
    "    - target_state (int): 目标状态的索引（从0开始）。\n",
    "    - steps (int): 马尔可夫链的步数。\n",
    "    \n",
    "    返回:\n",
    "    - float: 在 `steps` 步后到达目标状态的概率。\n",
    "    \"\"\"\n",
    "    # 计算 P^steps\n",
    "    P_steps = np.linalg.matrix_power(P, steps)\n",
    "    # 返回目标状态的概率\n",
    "    return P_steps[initial_state, target_state]\n",
    "\n",
    "def calculate_first_hit_time_expectation(P, target_state):\n",
    "    \"\"\"\n",
    "    计算从每个状态到达目标状态的期望时间。\n",
    "    \n",
    "    参数:\n",
    "    - P: 转移矩阵 (numpy 数组)，表示每个状态之间的转移概率。\n",
    "    - target_state: 目标状态的索引\n",
    "    \n",
    "    返回:\n",
    "    - h: 期望时间向量 (numpy 数组)，其中 h[i] 表示从状态 i 到目标状态的期望时间。\n",
    "    \"\"\"\n",
    "    n = P.shape[0]  # 状态空间的大小\n",
    "    \n",
    "    # 删除目标状态对应的行和列\n",
    "    P_minus = np.delete(P, target_state, axis=0)  # 删除第 target_state 行\n",
    "    P_minus = np.delete(P_minus, target_state, axis=1)  # 删除第 target_state 列\n",
    "    \n",
    "    # 计算 b 向量\n",
    "    b = np.sum(P, axis=1)  # 每一行的元素加总\n",
    "    b = -b  # 取负值\n",
    "    b = np.delete(b, target_state)  # 删除目标状态的 b 值（不需要计算该目标状态）\n",
    "\n",
    "    # 计算期望时间向量 h\n",
    "    I = np.eye(n-1)  # (n-1)维单位矩阵\n",
    "    h = np.linalg.solve(P_minus - I, b)  # 解方程 (P_minus - I) * h = b\n",
    "    \n",
    "    # 加入目标状态的期望时间\n",
    "    h_full = np.zeros(n)\n",
    "    h_full[target_state] = 0  # 目标状态的期望时间为 0\n",
    "    h_full[np.delete(np.arange(n), target_state)] = h  # 填充其他状态的期望时间\n",
    "    \n",
    "    return h_full"
   ]
  },
  {
   "cell_type": "code",
   "execution_count": 6,
   "id": "190335a5-a3b1-4092-b693-097ae8886c7a",
   "metadata": {},
   "outputs": [
    {
     "name": "stdout",
     "output_type": "stream",
     "text": [
      "期望时间： 3.846153846153846\n"
     ]
    }
   ],
   "source": [
    "# 计算从 suburbs (索引 1) 到 downtown (索引 0) 的期望时间\n",
    "expectation = calculate_first_hit_time_expectation(P, target_state=0)\n",
    "print(\"期望时间：\", expectation[1])  # suburbs 到 downtown 的期望时间"
   ]
  },
  {
   "cell_type": "markdown",
   "id": "778439c4-50e1-4ec7-b9ce-cf72a7a7c317",
   "metadata": {},
   "source": [
    "## Problem 2"
   ]
  },
  {
   "cell_type": "markdown",
   "id": "37927500-db50-4784-9202-3d1f986ee57b",
   "metadata": {},
   "source": [
    "没数据，别跑"
   ]
  },
  {
   "cell_type": "code",
   "execution_count": null,
   "id": "5728bd70-6f42-4796-99b3-2d7e04f44188",
   "metadata": {},
   "outputs": [],
   "source": [
    "from sklearn.model_selection import train_test_split\n",
    "from sklearn.linear_model import LinearRegression\n",
    "from sklearn.metrics import mean_absolute_error"
   ]
  },
  {
   "cell_type": "code",
   "execution_count": null,
   "id": "0a5ed605-734d-4b9a-85e1-b929653e180e",
   "metadata": {},
   "outputs": [],
   "source": [
    "# Part 1\n",
    "# Let problem2_df be the pandas dataframe that contains the data from the file\n",
    "# data/abalone.csv\n",
    "problem2_df = df.read_csv('data/abalone.csv',encoing='latin')\n",
    "\n",
    "problem2_features = [\"XXX\"]\n",
    "# Fill in the target as a string with the correct column name\n",
    "problem2_target = \"XXX\""
   ]
  },
  {
   "cell_type": "code",
   "execution_count": null,
   "id": "085afc26-a182-46aa-835e-9d877b9ec48d",
   "metadata": {},
   "outputs": [],
   "source": [
    "# Part 2\n",
    "# Split the data into train and test using train_test_split\n",
    "# keep the train size as 0.8 and use random_state=42\n",
    "problem2_X_train,problem2_X_test,problem2_y_train,problem2_y_test = train_test_split(X,Y,\n",
    "                                                 test_size=0.2,\n",
    "                                                 random_state=42,\n",
    "                                                 shuffle=shuffle)"
   ]
  },
  {
   "cell_type": "code",
   "execution_count": null,
   "id": "3bf8c28e-a05f-48ed-b69c-f031a680aa01",
   "metadata": {},
   "outputs": [],
   "source": [
    "# Part 3\n",
    "# Include the necessary imports\n",
    "# Initialize your linear regression model\n",
    "problem2_model = LinearRegression()\n",
    "\n",
    "problem2_model.fit(problem2_X_train, problem2_y_train)\n",
    "# Train your model on the training data"
   ]
  },
  {
   "cell_type": "code",
   "execution_count": null,
   "id": "bb6a55c0-680f-4ae6-ac73-da83b4645c3a",
   "metadata": {},
   "outputs": [],
   "source": [
    "# Part 4\n",
    "# Evaluate the model by computing the mean absolute error\n",
    "\n",
    "problem2_y_pred = problem2_model.predict(problem2_X_test)\n",
    "\n",
    "# 计算 MAE\n",
    "problem2_mae = mean_absolute_error(problem2_y_test, problem2_y_pred)\n",
    "\n",
    "\n",
    "\n",
    "# Part 4\n",
    "# Write the code to plot the empirical distribution function of the residual\n",
    "# with confidence bands with 95% confidence in this cell\n",
    "# from Utils import makeEDF,plotEDF\n",
    "from Utils import makeEDF,plotEDF\n",
    "edf=makeEDF(problem2_y_test - problem2_y_pred)\n",
    "plotEDF(edf,force_display=True,points_at_jump=True, confidence_band=False, alpha=0.95)"
   ]
  },
  {
   "cell_type": "code",
   "execution_count": null,
   "id": "07e33cf2-2d72-4788-bf9f-6d9216e68bb3",
   "metadata": {},
   "outputs": [],
   "source": [
    "# Part 5\n",
    "# Write the code below to produce the scatter plot for part 5\n",
    "import matplotlib.pyplot as plt\n",
    "\n",
    "# Scatter plot of predicted vs true values\n",
    "plt.figure(figsize=(8, 6))\n",
    "plt.scatter(problem2_y_pred, problem2_y_test, alpha=0.7, color='blue', edgecolors='k', s=50)\n",
    "plt.title(\"Predicted vs True Values (Test Set)\")\n",
    "plt.xlabel(\"Predicted Value\")\n",
    "plt.ylabel(\"True Value\")\n",
    "plt.grid(True)\n",
    "plt.show()\n"
   ]
  },
  {
   "cell_type": "markdown",
   "id": "0a185b27-274f-43da-90aa-8e8f036e6230",
   "metadata": {},
   "source": [
    "## Problem 3"
   ]
  },
  {
   "cell_type": "code",
   "execution_count": null,
   "id": "83d3afe5-71c9-401e-acfd-d83e753b31c5",
   "metadata": {},
   "outputs": [],
   "source": [
    "# Part 1\n",
    "# Let problem3_df be the pandas dataframe that contains the data from the file\n",
    "# data/visits_clean.csv\n",
    "problem3_df = df.read_csv('data/abalone.csv'）\n",
    "problem3_features = [\"XXX\"]\n",
    "#Fill in the target as a string with the correct column name\n",
    "problem3_target = \"XXX\""
   ]
  },
  {
   "cell_type": "code",
   "execution_count": null,
   "id": "d7619ca6-5332-48c7-bfb4-e8f984480a4f",
   "metadata": {},
   "outputs": [],
   "source": [
    "# Part 2\n",
    "# Fill in your X and y below\n",
    "problem3_X = problem3_df[problem3_features].values  # 特征变量\n",
    "problem3_y = problem3_df[problem3_target].values  # 目标变量\n",
    "\n",
    "# Split the data into train and test using train_test_split\n",
    "# keep the train size as 0.8 and use random_state=42\n",
    "problem3_X_train, problem3_X_test, problem3_y_train, problem3_y_test = train_test_split(\n",
    "    problem3_X, problem3_y, test_size=0.2, random_state=42)"
   ]
  },
  {
   "cell_type": "code",
   "execution_count": null,
   "id": "de266f91-1cce-43c3-88c2-8fd36ea76f8e",
   "metadata": {},
   "outputs": [],
   "source": [
    "# Part 3\n",
    "# Fill in the function loss below\n",
    "class PoissonRegression(object):\n",
    "    def __init__(self):\n",
    "        self.coeffs = None\n",
    "        self.result = None\n",
    "        \n",
    "    def fit(self,X,Y):\n",
    "        import numpy as np\n",
    "        from scipy import optimize\n",
    "        # define the objective/cost/loss function we want to minimise\n",
    "        def loss(coeffs):\n",
    "            # The parameter lambda for the given X and the proposed values\n",
    "            # of the coefficients, here coeff[:-1] represent alpha\n",
    "            # and coeff[-1] represent beta\n",
    "            lam = np.exp(np.dot(X,coeffs[:-1])+coeffs[-1])\n",
    "            # use the Y variable that is available here to define\n",
    "            # the loss function, return the value of the loss for\n",
    "            # this Y and for this parameter lam defined above\n",
    "            return np.sum(-Y * lam) + np.sum(lam)\n",
    "    \n",
    "        #Use the loss above together with an optimization method from scipy\n",
    "        #to find the coefficients of the model\n",
    "        #this is prepared for you below\n",
    "        initial_arguments = np.zeros(shape=X.shape[1]+1) # initial guess as 0\n",
    "        self.result = optimize.minimize(loss, initial_arguments,method='cg')\n",
    "        self.coeffs = self.result.x\n",
    "        \n",
    "    def predict(self,X):\n",
    "        #Use the trained model to predict Y\n",
    "        if (self.coeffs is not None):\n",
    "            return np.exp(np.dot(X,self.coeffs[:-1])+self.coeffs[-1])"
   ]
  },
  {
   "cell_type": "code",
   "execution_count": null,
   "id": "6c74a186-e6c1-4fe2-9671-9fddb3177244",
   "metadata": {},
   "outputs": [],
   "source": [
    "# Part 4\n",
    "# Initialize your PoissonRegression model\n",
    "problem3_model = PoissonRegression()\n",
    "\n",
    "# Fit your initialized model on the training data\n",
    "# This is to make sure that everything went well,\n",
    "# check that success is True\n",
    "print(problem3_model.result)"
   ]
  },
  {
   "cell_type": "code",
   "execution_count": null,
   "id": "459deade-8abe-4697-94d5-2a681a4843bb",
   "metadata": {},
   "outputs": [],
   "source": [
    "# Part 5\n",
    "# Put the computed metric value in the variable below\n",
    "problem3_metric = XXX"
   ]
  }
 ],
 "metadata": {
  "kernelspec": {
   "display_name": "Python 3 (ipykernel)",
   "language": "python",
   "name": "python3"
  },
  "language_info": {
   "codemirror_mode": {
    "name": "ipython",
    "version": 3
   },
   "file_extension": ".py",
   "mimetype": "text/x-python",
   "name": "python",
   "nbconvert_exporter": "python",
   "pygments_lexer": "ipython3",
   "version": "3.12.5"
  }
 },
 "nbformat": 4,
 "nbformat_minor": 5
}
